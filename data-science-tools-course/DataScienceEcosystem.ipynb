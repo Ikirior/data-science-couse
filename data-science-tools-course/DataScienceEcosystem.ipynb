{
 "cells": [
  {
   "cell_type": "markdown",
   "metadata": {},
   "source": [
    "<center>\n",
    "    <img src=\"https://cf-courses-data.s3.us.cloud-object-storage.appdomain.cloud/IBMDeveloperSkillsNetwork-DS0105EN-SkillsNetwork/labs/Module2/images/SN_web_lightmode.png\" width=\"300\" alt=\"cognitiveclass.ai logo\">\n",
    "</center>\n"
   ]
  },
  {
   "cell_type": "markdown",
   "metadata": {},
   "source": [
    "#### Add your code below following the instructions given in the course\n"
   ]
  },
  {
   "cell_type": "markdown",
   "metadata": {},
   "source": [
    "# Data Science Tools and Ecosystem"
   ]
  },
  {
   "cell_type": "markdown",
   "metadata": {},
   "source": [
    "In this notebook, the Data Science Ecosystem Tools are being summarized, using all the knowledge obtained in the course. Feel free to learn a little more about the Data Scientist toolbox!"
   ]
  },
  {
   "cell_type": "markdown",
   "metadata": {},
   "source": [
    "**Objectives:**\n",
    "\n",
    "- List the main programming languages used in data science Context.\n",
    "- List some mostly used libraries for data analysis and machine learning.\n",
    "- Tabulate some open-source data science tools used in the field.\n",
    "- Showing two examples of arithmetic expressions using python"
   ]
  },
  {
   "cell_type": "markdown",
   "metadata": {},
   "source": [
    "Some programming languages used in the context of Data Science are:\n",
    "\n",
    "1. **Python:** One of the main languages used to all activities and projects developed in the area. With python, you can use to do data and statistical analysis, artificial intelligence developing, and more.\n",
    "2. **R:** This language has a lot of functions for plotting and statistical analysis easily. Some libraries like ggplot and caret are very used in RStudio.\n",
    "3. **SQL:** Structured Query Language is very useful to deal with tabulate data, used for related dataset managing."
   ]
  },
  {
   "cell_type": "markdown",
   "metadata": {},
   "source": [
    "Some libraries commonly used by Data Scientist are:\n",
    "\n",
    "1. **Pandas:** Is a python library for structured data manipulation, being very useful to deal with datasets in python projects.\n",
    "2. **Matplotlib and Seabord:** These are some widely used Python libraries for plotting stylized graphs, which are very useful for telling a story using data.\n",
    "3. **TensorFlow and PyTorch:** In the development of Artificial Intelligence and Machine Learning, these Python libraries are useful for applications such as: computer vision, deep learning research, and natural language processing."
   ]
  },
  {
   "cell_type": "markdown",
   "metadata": {},
   "source": [
    "\n",
    "|Open Source Data Science Tools|\n",
    "|----------------------------|\n",
    "|      Jupyter Notebook      |\n",
    "| Apache Superset |\n",
    "| Orange Data Science Tool |\n",
    "| Jupyter Notebook and Jupyter Lab| "
   ]
  },
  {
   "cell_type": "markdown",
   "metadata": {},
   "source": [
    "### Below are some examples of evaluating arithmetic expressions in Python:"
   ]
  },
  {
   "cell_type": "code",
   "execution_count": 13,
   "metadata": {},
   "outputs": [
    {
     "data": {
      "text/plain": [
       "17"
      ]
     },
     "execution_count": 13,
     "metadata": {},
     "output_type": "execute_result"
    }
   ],
   "source": [
    "# This is a simple arithmetic expression for multiplying and then adding integers.\n",
    "# The * symbol is used for applying the multiplication algorithm.\n",
    "# The ( ) is used for hierarchy in arithmetic operations.\n",
    "\n",
    "(3*4)+5"
   ]
  },
  {
   "cell_type": "code",
   "execution_count": 14,
   "metadata": {},
   "outputs": [
    {
     "data": {
      "text/plain": [
       "3.3333333333333335"
      ]
     },
     "execution_count": 14,
     "metadata": {},
     "output_type": "execute_result"
    }
   ],
   "source": [
    "# This cell will convert 200 minutes in hours.\n",
    "# One hour has 60 minutes\n",
    "# The / symbol apply a non integer division\n",
    "200/60"
   ]
  },
  {
   "cell_type": "markdown",
   "metadata": {},
   "source": [
    "## Author:\n",
    "Gabriel Lacerda Caldi"
   ]
  }
 ],
 "metadata": {
  "kernelspec": {
   "display_name": "Python 3 (ipykernel)",
   "language": "python",
   "name": "python3"
  },
  "language_info": {
   "codemirror_mode": {
    "name": "ipython",
    "version": 3
   },
   "file_extension": ".py",
   "mimetype": "text/x-python",
   "name": "python",
   "nbconvert_exporter": "python",
   "pygments_lexer": "ipython3",
   "version": "3.12.8"
  }
 },
 "nbformat": 4,
 "nbformat_minor": 4
}
